{
 "cells": [
  {
   "cell_type": "markdown",
   "metadata": {},
   "source": [
    "# Create a DEM for De Saint Venant test case\n",
    "by Niccolo' Tubini and Riccardo Rigon under the CC4 license\n",
    "____\n",
    "\n",
    "This notebook can be used to create a DEM of a straight channel. \n",
    "The section of the channel is trapezoidal."
   ]
  },
  {
   "cell_type": "code",
   "execution_count": 1,
   "metadata": {},
   "outputs": [],
   "source": [
    "import pandas as pd\n",
    "import numpy as np\n",
    "import matplotlib.pyplot as plt\n",
    "import io\n",
    "import os"
   ]
  },
  {
   "cell_type": "markdown",
   "metadata": {},
   "source": [
    "## DEM with a single slope\n",
    "___\n",
    "The user can define the\n",
    "- dem resolution (`demResolution` [m]),\n",
    "- the slope of the channel (`iF` [-]), \n",
    "- the length of the channel (`length` [m]), \n",
    "- the maximum elevation of the DEM (`demMaxElevation` [m]), \n",
    "- the width of the DEM (`width` [m]),\n",
    "- the width of the section (`sectionWidth` [m]),\n",
    "- the height of the section (`sectionHeight` [m])."
   ]
  },
  {
   "cell_type": "code",
   "execution_count": 2,
   "metadata": {},
   "outputs": [],
   "source": [
    "demResolution = 2 \n",
    "iF = 0.003\n",
    "length = 100000\n",
    "demMaxElevation = 2000\n",
    "width = 50\n",
    "sectionWidth = 30\n",
    "sectionHeight = 2"
   ]
  },
  {
   "cell_type": "markdown",
   "metadata": {},
   "source": [
    "### Loops to crate the DEM\n",
    "____"
   ]
  },
  {
   "cell_type": "code",
   "execution_count": 3,
   "metadata": {},
   "outputs": [],
   "source": [
    "Nx = int( length/demResolution )\n",
    "Ny = int( width/demResolution )\n",
    "dem = np.zeros((Ny,Nx))\n"
   ]
  },
  {
   "cell_type": "code",
   "execution_count": 4,
   "metadata": {},
   "outputs": [],
   "source": [
    "for i in range(0,Nx):\n",
    "    x = i*demResolution\n",
    "    for j in range(Ny-1,-1,-1):\n",
    "        y = (Ny-1-j)*demResolution\n",
    "        if (y>=0 and y<((width-sectionWidth)/2) ):\n",
    "            dem[j,i] = demMaxElevation-iF*x\n",
    "        elif (y>=((width-sectionWidth)/2) and y<((width-sectionWidth)/2)+sectionWidth ):\n",
    "            dem[j,i] = demMaxElevation-iF*x - sectionHeight\n",
    "        else:\n",
    "            dem[j,i] = demMaxElevation-iF*x"
   ]
  },
  {
   "cell_type": "markdown",
   "metadata": {},
   "source": [
    "### Plot of the uppermost section\n",
    "___"
   ]
  },
  {
   "cell_type": "code",
   "execution_count": 7,
   "metadata": {},
   "outputs": [
    {
     "data": {
      "image/png": "[encoded data removed]",
      "text/plain": [
       "<matplotlib.figure.Figure at 0x1fa761ebf60>"
      ]
     },
     "metadata": {},
     "output_type": "display_data"
    }
   ],
   "source": [
    "plt.plot(dem[:,0])\n",
    "plt.xlabel('Cell number')\n",
    "plt.ylabel('Elevation [$m$]')\n",
    "plt.show()"
   ]
  },
  {
   "cell_type": "markdown",
   "metadata": {},
   "source": [
    "### Plot of the longitudinal profile"
   ]
  },
  {
   "cell_type": "code",
   "execution_count": 9,
   "metadata": {},
   "outputs": [
    {
     "data": {
      "image/png": "[encoded data removed]",
      "text/plain": [
       "<matplotlib.figure.Figure at 0x1fa761f44a8>"
      ]
     },
     "metadata": {},
     "output_type": "display_data"
    }
   ],
   "source": [
    "plt.plot(dem[0,:])\n",
    "plt.xlabel('Cell number')\n",
    "plt.ylabel('Elevation [$m$]')\n",
    "plt.show()"
   ]
  },
  {
   "cell_type": "markdown",
   "metadata": {},
   "source": [
    "### Save the DEM to .asc file\n",
    "This file requires a .prj file that defines it projection. Here `xllcorner` and `yllcorner` are set for EPSG:32632 projection.\n",
    "___"
   ]
  },
  {
   "cell_type": "code",
   "execution_count": 35,
   "metadata": {},
   "outputs": [],
   "source": [
    "f = io.StringIO()\n",
    "np.savetxt(f, dem, fmt='%.4f')\n",
    "f.seek(0)\n",
    "fs = f.read()\n",
    "f.close()\n",
    "\n",
    "f = open('outputDEM', 'w')\n",
    "f.write(\"ncols \" + str(Nx) + \"\\n\")\n",
    "f.write(\"nrows \" + str(Ny) + \"\\n\")\n",
    "f.write(\"xllcorner \" + str(616672.000000000000) + \"\\n\")\n",
    "f.write(\"yllcorner \" + str(5119438.000000000000) + \"\\n\")\n",
    "f.write(\"cellsize \" + str(demResolution) + \"\\n\")\n",
    "f.write(\"NODATA_value \" + str(-9999) + \"\\n\")\n",
    "f.write(fs)\n",
    "f.close()"
   ]
  },
  {
   "cell_type": "markdown",
   "metadata": {},
   "source": [
    "## This a generalization of the above code to create a DEM with slope change along the longitudinal direction\n",
    "___\n",
    "The user can define the\n",
    "- dem resolution (`demResolution` [m]),\n",
    "- the slopes of the channel (`iF` [-]). The first element refers to the first stretch.\n",
    "- the progressive of the stretches (`length` [m]). The first element refers to the first stretch.\n",
    "- the maximum elevation of the DEM (`demMaxElevation` [m]), \n",
    "- the width of the DEM (`width` [m]),\n",
    "- the width of the section (`sectionWidth` [m]),\n",
    "- the height of the section (`sectionHeight` [m])."
   ]
  },
  {
   "cell_type": "code",
   "execution_count": 10,
   "metadata": {},
   "outputs": [],
   "source": [
    "demResolution = 2 \n",
    "iF = [0.003,0.03,0.003]\n",
    "length = [5000,10000,15000]\n",
    "demMaxElevation = 2000\n",
    "width = 50\n",
    "sectionWidth = 30\n",
    "sectionHeight = 2"
   ]
  },
  {
   "cell_type": "code",
   "execution_count": 11,
   "metadata": {},
   "outputs": [],
   "source": [
    "Nx = int( length[np.size(length)-1]/demResolution )\n",
    "Ny = int( width/demResolution )\n",
    "dem1 = np.zeros((Ny,Nx))\n",
    "ii = 0"
   ]
  },
  {
   "cell_type": "code",
   "execution_count": 12,
   "metadata": {},
   "outputs": [],
   "source": [
    "for i in range(0,Nx):\n",
    "    x = i*demResolution\n",
    "    iF_temp = iF[ii]\n",
    "    if(x>=length[ii]):\n",
    "        ii= ii+1\n",
    "    if(i==0):\n",
    "        for j in range(Ny-1,-1,-1):\n",
    "            y = (Ny-1-j)*demResolution\n",
    "            if (y>=0 and y<((width-sectionWidth)/2) ):\n",
    "                dem1[j,i] = demMaxElevation-iF_temp*0\n",
    "            elif (y>=(width-sectionWidth)/2) and y<(((width-sectionWidth)/2)+sectionWidth ):\n",
    "                dem1[j,i] = demMaxElevation-iF_temp*0 - sectionHeight\n",
    "            else:\n",
    "                dem1[j,i] = demMaxElevation-iF_temp*0\n",
    "    else:\n",
    "        for j in range(Ny-1,-1,-1):\n",
    "            y = (Ny-1-j)*demResolution\n",
    "            if (y>=0 and y<((width-sectionWidth)/2) ):\n",
    "                dem1[j,i] = dem1[j,i-1]-iF_temp*demResolution\n",
    "            elif (y>=((width-sectionWidth)/2) and y<((width-sectionWidth)/2)+sectionWidth ):\n",
    "                dem1[j,i] = dem1[j,i-1]-iF_temp*demResolution#   - sectionHeight\n",
    "            else:\n",
    "                dem1[j,i] = dem1[j,i-1]-iF_temp*demResolution"
   ]
  },
  {
   "cell_type": "markdown",
   "metadata": {},
   "source": [
    "### Plot of the uppermost section\n",
    "___"
   ]
  },
  {
   "cell_type": "code",
   "execution_count": 15,
   "metadata": {},
   "outputs": [
    {
     "data": {
      "image/png": "[encoded data removed]",
      "text/plain": [
       "<matplotlib.figure.Figure at 0x1fa75e8d1d0>"
      ]
     },
     "metadata": {},
     "output_type": "display_data"
    }
   ],
   "source": [
    "plt.plot(dem[:,100])\n",
    "plt.xlabel('Cell number')\n",
    "plt.ylabel('Elevation [$m$]')\n",
    "plt.show()\n"
   ]
  },
  {
   "cell_type": "markdown",
   "metadata": {},
   "source": [
    "### Plot of the longitudinal profile"
   ]
  },
  {
   "cell_type": "code",
   "execution_count": 14,
   "metadata": {},
   "outputs": [
    {
     "data": {
      "image/png": "[encoded data removed]",
      "text/plain": [
       "<matplotlib.figure.Figure at 0x1fa75f9a668>"
      ]
     },
     "metadata": {},
     "output_type": "display_data"
    }
   ],
   "source": [
    "plt.plot(dem1[12,:])\n",
    "plt.xlabel('Cell number')\n",
    "plt.ylabel('Elevation [$m$]')\n",
    "plt.show()"
   ]
  },
  {
   "cell_type": "markdown",
   "metadata": {},
   "source": [
    "### Save the DEM to .asc file\n",
    "This file requires a .prj file that defines it projection. Here `xllcorner` and `yllcorner` are set for EPSG:32632 projection.\n",
    "___"
   ]
  },
  {
   "cell_type": "code",
   "execution_count": 75,
   "metadata": {},
   "outputs": [],
   "source": [
    "f = io.StringIO()\n",
    "np.savetxt(f, dem1, fmt='%.4f')\n",
    "f.seek(0)\n",
    "fs = f.read()\n",
    "f.close()\n",
    "\n",
    "f = open('ASCIIout.asc', 'w')\n",
    "f.write(\"ncols \" + str(Nx) + \"\\n\")\n",
    "f.write(\"nrows \" + str(Ny) + \"\\n\")\n",
    "f.write(\"xllcorner \" + str(616672.000000000000) + \"\\n\")\n",
    "f.write(\"yllcorner \" + str(5119438.000000000000) + \"\\n\")\n",
    "f.write(\"cellsize \" + str(demResolution) + \"\\n\")\n",
    "f.write(\"NODATA_value \" + str(-9999) + \"\\n\")\n",
    "f.write(fs)\n",
    "f.close()"
   ]
  },
  {
   "cell_type": "markdown",
   "metadata": {},
   "source": [
    " **TO DO**: generalize the above code to consider also changes in the section widht"
   ]
  },
  {
   "cell_type": "code",
   "execution_count": null,
   "metadata": {},
   "outputs": [],
   "source": []
  }
 ],
 "metadata": {
  "kernelspec": {
   "display_name": "Python 3",
   "language": "python",
   "name": "python3"
  },
  "language_info": {
   "codemirror_mode": {
    "name": "ipython",
    "version": 3
   },
   "file_extension": ".py",
   "mimetype": "text/x-python",
   "name": "python",
   "nbconvert_exporter": "python",
   "pygments_lexer": "ipython3",
   "version": "3.6.3"
  }
 },
 "nbformat": 4,
 "nbformat_minor": 2
}
